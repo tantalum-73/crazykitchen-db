{
 "cells": [
  {
   "cell_type": "code",
   "execution_count": 17,
   "id": "8ba9c1a9",
   "metadata": {},
   "outputs": [],
   "source": [
    "from pymongo import MongoClient\n",
    "import csv\n",
    "import pandas as pd\n",
    "import os\n",
    "from datetime import datetime"
   ]
  },
  {
   "cell_type": "markdown",
   "id": "f165d35b",
   "metadata": {},
   "source": [
    "### Import data from the CSV files exported from MySQL"
   ]
  },
  {
   "cell_type": "code",
   "execution_count": 18,
   "id": "1cf9f363",
   "metadata": {},
   "outputs": [
    {
     "name": "stdout",
     "output_type": "stream",
     "text": [
      "Data from Customer.csv imported to MongoDB collection 'Customer'\n",
      "Data from Dish.csv imported to MongoDB collection 'Dish'\n",
      "Data from Ingredient.csv imported to MongoDB collection 'Ingredient'\n",
      "Data from IngredientsSupplied.csv imported to MongoDB collection 'IngredientsSupplied'\n",
      "Data from IngredientsUsed.csv imported to MongoDB collection 'IngredientsUsed'\n",
      "Data from Member.csv imported to MongoDB collection 'Member'\n",
      "Data from OrderedDish.csv imported to MongoDB collection 'OrderedDish'\n",
      "Data from Receipt.csv imported to MongoDB collection 'Receipt'\n",
      "Data from RestaurantOrder.csv imported to MongoDB collection 'RestaurantOrder'\n",
      "Data from RestaurantTable.csv imported to MongoDB collection 'RestaurantTable'\n",
      "Data from Staff.csv imported to MongoDB collection 'Staff'\n",
      "Data from Supplier.csv imported to MongoDB collection 'Supplier'\n",
      "All files have been imported successfully!\n"
     ]
    }
   ],
   "source": [
    "client = MongoClient('mongodb://localhost:27017/')\n",
    "db = client['crazykitchen']  # replace with your database name\n",
    "\n",
    "directory = r\"mysql-tables/\"\n",
    "\n",
    "integer_fields = [\"TableNumber\", \"StaffID\", \"OrderID\", \"CustomerID\", \"IngredientID\",\n",
    "                  \"SupplierID\", \"MemberID\", \"ReceiptID\", \"Capacity\", \"ManagerID\"]\n",
    "float_fields = [\"Discount\", \"Amount\", \"Price\", \"Quantity\", \"Wage\"]\n",
    "\n",
    "date_fields = [\"JoinDate\", \"ExpiryDate\", \"HireDate\"]\n",
    "\n",
    "datetime_fields = [ \"SaleDatetime\", \"OrderDatetime\"]\n",
    "\n",
    "for filename in os.listdir(directory):\n",
    "    if filename.endswith(\".csv\"):\n",
    "        filepath = os.path.join(directory, filename)\n",
    "        \n",
    "        with open(filepath, mode='r') as file:\n",
    "            csv_reader = csv.DictReader(file, delimiter=';')\n",
    "            \n",
    "            data = []\n",
    "            for row in csv_reader:\n",
    "                cleaned_row = {}\n",
    "                for key, value in row.items():\n",
    "                    if key in integer_fields:\n",
    "                        cleaned_row[key] = int(value)\n",
    "                    elif key in float_fields:\n",
    "                        cleaned_row[key] = float(value)\n",
    "                    elif key in date_fields:\n",
    "                        cleaned_row[key] = datetime.strptime(value, '%Y-%m-%d')\n",
    "                    elif key in datetime_fields:\n",
    "                        cleaned_row[key] = datetime.strptime(value, '%Y-%m-%d %H:%M:%S')\n",
    "                    else:\n",
    "                        cleaned_row[key] = value\n",
    "                data.append(cleaned_row)\n",
    "            \n",
    "            collection_name = filename.split('.')[0]\n",
    "            \n",
    "            collection = db[collection_name]\n",
    "            if data:\n",
    "                collection.insert_many(data)\n",
    "        \n",
    "        print(f\"Data from {filename} imported to MongoDB collection '{collection_name}'\")\n",
    "\n",
    "print(\"All files have been imported successfully!\")"
   ]
  },
  {
   "cell_type": "code",
   "execution_count": null,
   "id": "1c349fef",
   "metadata": {},
   "outputs": [],
   "source": []
  }
 ],
 "metadata": {
  "kernelspec": {
   "display_name": "Python 3 (ipykernel)",
   "language": "python",
   "name": "python3"
  },
  "language_info": {
   "codemirror_mode": {
    "name": "ipython",
    "version": 3
   },
   "file_extension": ".py",
   "mimetype": "text/x-python",
   "name": "python",
   "nbconvert_exporter": "python",
   "pygments_lexer": "ipython3",
   "version": "3.11.5"
  }
 },
 "nbformat": 4,
 "nbformat_minor": 5
}
