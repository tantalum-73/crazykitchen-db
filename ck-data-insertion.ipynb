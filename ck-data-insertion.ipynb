{
 "cells": [
  {
   "cell_type": "code",
   "execution_count": 84,
   "id": "c403ed4d",
   "metadata": {},
   "outputs": [],
   "source": [
    "import mysql.connector\n",
    "from datetime import datetime, timedelta, date\n",
    "import random\n",
    "from faker import Faker"
   ]
  },
  {
   "cell_type": "code",
   "execution_count": 85,
   "id": "651d703f",
   "metadata": {},
   "outputs": [],
   "source": [
    "departments = ['Kitchen', 'Front of House', 'Bar', 'Cleaning', 'Management', 'Inventory']\n",
    "table_capacities = [2,4,6,10]\n",
    "start_datetime = datetime(2024, 1, 1, 10, 0, 0)\n",
    "manager_ids = [3,6,8,15,23]\n",
    "\n",
    "menu = {\n",
    "    'Pizzas': [\n",
    "        {'name': 'Margherita', 'description': 'Classic pizza with tomato sauce, mozzarella, and basil', 'price': 8.99},\n",
    "        {'name': 'Pepperoni', 'description': 'Tomato sauce, mozzarella, and pepperoni slices', 'price': 9.99},\n",
    "        {'name': 'BBQ Chicken', 'description': 'BBQ sauce, chicken, onions, and mozzarella', 'price': 10.99},\n",
    "        {'name': 'Veggie Supreme', 'description': 'Tomato sauce, bell peppers, onions, mushrooms, and olives', 'price': 9.49},\n",
    "    ],\n",
    "    'Burgers': [\n",
    "        {'name': 'Classic Cheeseburger', 'description': 'Beef patty, cheddar cheese, lettuce, tomato, and onion', 'price': 7.99},\n",
    "        {'name': 'Bacon Burger', 'description': 'Beef patty, bacon, cheddar cheese, and BBQ sauce', 'price': 8.99},\n",
    "        {'name': 'Veggie Burger', 'description': 'Grilled veggie patty with lettuce, tomato, and avocado', 'price': 7.49},\n",
    "        {'name': 'Double Trouble', 'description': 'Two beef patties, double cheese, and special sauce', 'price': 10.49},\n",
    "    ],\n",
    "    'Fries': [\n",
    "        {'name': 'Classic Fries', 'description': 'Golden crispy fries', 'price': 2.99},\n",
    "        {'name': 'Cheese Fries', 'description': 'Fries topped with melted cheddar cheese', 'price': 3.99},\n",
    "        {'name': 'Garlic Parmesan Fries', 'description': 'Fries tossed in garlic and parmesan cheese', 'price': 3.99},\n",
    "        {'name': 'Sweet Potato Fries', 'description': 'Crispy sweet potato fries', 'price': 3.49},\n",
    "    ],\n",
    "    'Drinks': [\n",
    "        {'name': 'Coca Cola', 'description': 'Chilled classic Coca Cola', 'price': 1.99},\n",
    "        {'name': 'Lemonade', 'description': 'Freshly squeezed lemonade', 'price': 2.49},\n",
    "        {'name': 'Iced Tea', 'description': 'Refreshing iced tea with lemon', 'price': 2.29},\n",
    "        {'name': 'Milkshake', 'description': 'Thick and creamy milkshake (vanilla, chocolate, or strawberry)', 'price': 4.99},\n",
    "        {'name': 'Beer', 'description': 'Chilled draft beer (lager, ale, or stout)', 'price': 5.99},\n",
    "        {'name': 'Red Wine', 'description': 'Glass of house red wine', 'price': 6.99},\n",
    "        {'name': 'White Wine', 'description': 'Glass of house white wine', 'price': 6.99},\n",
    "        {'name': 'Whiskey Sour', 'description': 'Classic whiskey sour cocktail', 'price': 7.99},\n",
    "    ]\n",
    "}\n",
    "\n",
    "ingredients = [\n",
    "    'Tomato Sauce', 'Mozzarella', 'Basil', 'Pepperoni', 'BBQ Sauce', 'Chicken', \n",
    "    'Onions', 'Bell Peppers', 'Mushrooms', 'Olives', 'Beef Patty', 'Cheddar Cheese', \n",
    "    'Lettuce', 'Tomato', 'Onion', 'Bacon', 'Veggie Patty', 'Avocado', 'Special Sauce', \n",
    "    'Potatoes', 'Cheese', 'Garlic', 'Parmesan', 'Sweet Potatoes', 'Coca Cola', \n",
    "    'Lemon', 'Tea', 'Milk', 'Vanilla', 'Chocolate', 'Strawberry', 'Beer', \n",
    "    'Red Wine', 'White Wine', 'Whiskey', 'Sour Mix'\n",
    "]\n",
    "\n",
    "dishes_to_ingredients = {\n",
    "    'Margherita': ['Tomato Sauce', 'Mozzarella', 'Basil'],\n",
    "    'Pepperoni': ['Tomato Sauce', 'Mozzarella', 'Pepperoni'],\n",
    "    'BBQ Chicken': ['BBQ Sauce', 'Chicken', 'Onions', 'Mozzarella'],\n",
    "    'Veggie Supreme': ['Tomato Sauce', 'Bell Peppers', 'Onions', 'Mushrooms', 'Olives', 'Mozzarella'],\n",
    "    'Classic Cheeseburger': ['Beef Patty', 'Cheddar Cheese', 'Lettuce', 'Tomato', 'Onion'],\n",
    "    'Bacon Burger': ['Beef Patty', 'Bacon', 'Cheddar Cheese', 'BBQ Sauce'],\n",
    "    'Veggie Burger': ['Veggie Patty', 'Lettuce', 'Tomato', 'Avocado'],\n",
    "    'Double Trouble': ['Beef Patty', 'Cheddar Cheese', 'Special Sauce'],\n",
    "    'Classic Fries': ['Potatoes'],\n",
    "    'Cheese Fries': ['Potatoes', 'Cheese'],\n",
    "    'Garlic Parmesan Fries': ['Potatoes', 'Garlic', 'Parmesan'],\n",
    "    'Sweet Potato Fries': ['Sweet Potatoes'],\n",
    "    'Coca Cola': ['Coca Cola'],\n",
    "    'Lemonade': ['Lemon'],\n",
    "    'Iced Tea': ['Tea', 'Lemon'],\n",
    "    'Milkshake': ['Milk', 'Vanilla', 'Chocolate', 'Strawberry'],\n",
    "    'Beer': ['Beer'],\n",
    "    'Red Wine': ['Red Wine'],\n",
    "    'White Wine': ['White Wine'],\n",
    "    'Whiskey Sour': ['Whiskey', 'Sour Mix'],\n",
    "}"
   ]
  },
  {
   "cell_type": "code",
   "execution_count": 57,
   "id": "5afe9045",
   "metadata": {},
   "outputs": [
    {
     "name": "stdout",
     "output_type": "stream",
     "text": [
      "Data inserted successfully into the database.\n"
     ]
    }
   ],
   "source": [
    "# Insert data into the Member table\n",
    "try:\n",
    "    connection = mysql.connector.connect(\n",
    "        host= '34.170.97.145',\n",
    "        user= 'root',\n",
    "        password= 'password',\n",
    "        database= 'crazykitchen'\n",
    "    )\n",
    "    \n",
    "    if connection.is_connected():\n",
    "        cursor = connection.cursor()\n",
    "\n",
    "        for i in range(1,100):\n",
    "            member_id = i\n",
    "            discount = random.randint(5, 40)\n",
    "            join_date = fake.date_this_decade()\n",
    "            expiry_date = fake.date_between_dates(date_start=join_date, date_end=date.today())\n",
    "            cursor.execute(\n",
    "                \"\"\"INSERT INTO Member (MemberID, Discount, JoinDate, ExpiryDate)\n",
    "                   VALUES (%s, %s, %s, %s)\"\"\",\n",
    "                (member_id, discount, join_date, expiry_date)\n",
    "            )\n",
    "        connection.commit()\n",
    "        print(\"Data inserted successfully into the database.\")\n",
    "except mysql.connector.Error as e:\n",
    "    print(f\"Error: {e}\")\n",
    "connection.close()"
   ]
  },
  {
   "cell_type": "code",
   "execution_count": 58,
   "id": "ed51049b",
   "metadata": {},
   "outputs": [
    {
     "name": "stdout",
     "output_type": "stream",
     "text": [
      "Data inserted successfully into the database.\n"
     ]
    }
   ],
   "source": [
    "# Insert data into Customer Table\n",
    "try:\n",
    "    connection = mysql.connector.connect(\n",
    "        host= '34.170.97.145',\n",
    "        user= 'root',\n",
    "        password= 'password',\n",
    "        database= 'crazykitchen'\n",
    "    )\n",
    "    \n",
    "    if connection.is_connected():\n",
    "        cursor = connection.cursor()\n",
    "\n",
    "        \n",
    "        for i in range(1, 200):\n",
    "            customer_id = i\n",
    "            name = fake.name()\n",
    "            email = fake.email()\n",
    "            phone = fake.phone_number()\n",
    "            member_id = random.randint(1, 100)  # assuming this matches the MemberID\n",
    "            cursor.execute(\n",
    "                \"\"\"INSERT INTO Customer (CustomerID, Name, Email, Phone, MemberID)\n",
    "                   VALUES (%s, %s, %s, %s, %s)\"\"\",\n",
    "                (customer_id, name, email, phone, member_id)\n",
    "            )\n",
    "        connection.commit()\n",
    "        print(\"Data inserted successfully into the database.\")\n",
    "except mysql.connector.Error as e:\n",
    "    print(f\"Error: {e}\")\n",
    "connection.close()"
   ]
  },
  {
   "cell_type": "code",
   "execution_count": 59,
   "id": "fc2799c9",
   "metadata": {},
   "outputs": [
    {
     "name": "stdout",
     "output_type": "stream",
     "text": [
      "Data inserted successfully into the database.\n"
     ]
    }
   ],
   "source": [
    "# Insert data into Staff table\n",
    "try:\n",
    "    connection = mysql.connector.connect(\n",
    "        host= '34.170.97.145',\n",
    "        user= 'root',\n",
    "        password= 'password',\n",
    "        database= 'crazykitchen'\n",
    "    )\n",
    "    \n",
    "    if connection.is_connected():\n",
    "        cursor = connection.cursor()\n",
    "        \n",
    "        for i in range(1, 30):\n",
    "            staff_id = i\n",
    "            name = fake.name()\n",
    "            email = fake.email()\n",
    "            phone = fake.phone_number()\n",
    "            wage = random.randint(15, 30)\n",
    "            manager_id = random.choice(manager_ids)\n",
    "            department = random.choice(departments)\n",
    "            hire_date = fake.date_this_decade()\n",
    "            cursor.execute(\n",
    "                \"\"\"INSERT INTO Staff (StaffID, Name, Email, Phone, Wage, ManagerID, Department, HireDate)\n",
    "                   VALUES (%s, %s, %s, %s, %s, %s, %s, %s)\"\"\",\n",
    "                (staff_id, name, email, phone, wage, manager_id, department, hire_date)\n",
    "            )\n",
    "            \n",
    "        connection.commit()\n",
    "        print(\"Data inserted successfully into the database.\")\n",
    "except mysql.connector.Error as e:\n",
    "    print(f\"Error: {e}\")\n",
    "connection.close()"
   ]
  },
  {
   "cell_type": "code",
   "execution_count": 60,
   "id": "421348f1",
   "metadata": {},
   "outputs": [
    {
     "name": "stdout",
     "output_type": "stream",
     "text": [
      "Data inserted successfully into the database.\n"
     ]
    }
   ],
   "source": [
    "# Insert data into RestaurantTable table\n",
    "try:\n",
    "    connection = mysql.connector.connect(\n",
    "        host= '34.170.97.145',\n",
    "        user= 'root',\n",
    "        password= 'password',\n",
    "        database= 'crazykitchen'\n",
    "    )\n",
    "    \n",
    "    if connection.is_connected():\n",
    "        cursor = connection.cursor()\n",
    "        \n",
    "        \n",
    "        for i in range(1,25):\n",
    "            table_number = i\n",
    "            capacity = random.choice(table_capacities)\n",
    "            cursor.execute(\n",
    "                \"\"\"INSERT INTO RestaurantTable (TableNumber, Capacity)\n",
    "                   VALUES (%s, %s)\"\"\",\n",
    "                (table_number, capacity)\n",
    "            )\n",
    "            \n",
    "        connection.commit()\n",
    "        print(\"Data inserted successfully into the database.\")\n",
    "except mysql.connector.Error as e:\n",
    "    print(f\"Error: {e}\")\n",
    "connection.close()"
   ]
  },
  {
   "cell_type": "code",
   "execution_count": 61,
   "id": "ccceaad4",
   "metadata": {},
   "outputs": [
    {
     "name": "stdout",
     "output_type": "stream",
     "text": [
      "Data inserted successfully into the database.\n"
     ]
    }
   ],
   "source": [
    "# Make sure the time is between 10 AM and 11 PM\n",
    "try:\n",
    "    connection = mysql.connector.connect(\n",
    "        host= '34.170.97.145',\n",
    "        user= 'root',\n",
    "        password= 'password',\n",
    "        database= 'crazykitchen'\n",
    "    )\n",
    "    \n",
    "    if connection.is_connected():\n",
    "        cursor = connection.cursor()\n",
    "        \n",
    "        for i in range(1000):\n",
    "            order_id = i\n",
    "            customer_id = random.randint(1, 100)\n",
    "            staff_id = random.randint(1, 30)\n",
    "            table_number = random.randint(1, 20)\n",
    "            \n",
    "            interval_minutes = random.randint(5, 120)\n",
    "            order_datetime = start_datetime + timedelta(minutes=interval_minutes)\n",
    "\n",
    "            \n",
    "            if order_datetime.hour >= 23:\n",
    "                order_datetime = order_datetime.replace(hour=22, minute=59) + timedelta(days=1)\n",
    "            \n",
    "            start_datetime = order_datetime\n",
    "            \n",
    "            cursor.execute(\n",
    "                \"\"\"INSERT INTO RestaurantOrder (OrderID, OrderDatetime, CustomerID, StaffID, TableNumber)\n",
    "                   VALUES (%s, %s, %s, %s, %s)\"\"\",\n",
    "                (order_id, order_datetime, customer_id, staff_id, table_number)\n",
    "            )\n",
    "            \n",
    "        connection.commit()\n",
    "        print(\"Data inserted successfully into the database.\")\n",
    "except mysql.connector.Error as e:\n",
    "    print(f\"Error: {e}\")\n",
    "connection.close()"
   ]
  },
  {
   "cell_type": "code",
   "execution_count": 62,
   "id": "fccd4abc",
   "metadata": {},
   "outputs": [
    {
     "name": "stdout",
     "output_type": "stream",
     "text": [
      "Data inserted successfully into the database.\n"
     ]
    }
   ],
   "source": [
    "try:\n",
    "    connection = mysql.connector.connect(\n",
    "        host= '34.170.97.145',\n",
    "        user= 'root',\n",
    "        password= 'password',\n",
    "        database= 'crazykitchen'\n",
    "    )\n",
    "    \n",
    "    if connection.is_connected():\n",
    "        cursor = connection.cursor()\n",
    "        \n",
    "        # Insert into Dish table\n",
    "        for category, dishes in menu.items():\n",
    "            for dish in dishes:\n",
    "                cursor.execute(\n",
    "                    \"\"\"INSERT INTO Dish (DishName, Description, Price)\n",
    "                       VALUES (%s, %s, %s)\"\"\",\n",
    "                    (dish['name'], dish['description'], dish['price'])\n",
    "                )\n",
    "            \n",
    "        connection.commit()\n",
    "        print(\"Data inserted successfully into the database.\")\n",
    "except mysql.connector.Error as e:\n",
    "    print(f\"Error: {e}\")\n",
    "connection.close()"
   ]
  },
  {
   "cell_type": "code",
   "execution_count": 63,
   "id": "bfc397be",
   "metadata": {},
   "outputs": [
    {
     "name": "stdout",
     "output_type": "stream",
     "text": [
      "Data inserted successfully into the database.\n"
     ]
    }
   ],
   "source": [
    "# Insert data into the Ingredient table\n",
    "try:\n",
    "    connection = mysql.connector.connect(\n",
    "        host= '34.170.97.145',\n",
    "        user= 'root',\n",
    "        password= 'password',\n",
    "        database= 'crazykitchen'\n",
    "    )\n",
    "    \n",
    "    if connection.is_connected():\n",
    "        cursor = connection.cursor()\n",
    "        \n",
    "        for ingredient_id, ingredient_name in enumerate(ingredients, start=1):\n",
    "            cursor.execute(\n",
    "                \"\"\"INSERT INTO Ingredient (IngredientID, IngredientName)\n",
    "                   VALUES (%s, %s)\"\"\",\n",
    "                (ingredient_id, ingredient_name)\n",
    "            )\n",
    "            \n",
    "        connection.commit()\n",
    "        print(\"Data inserted successfully into the database.\")\n",
    "except mysql.connector.Error as e:\n",
    "    print(f\"Error: {e}\")\n",
    "connection.close()"
   ]
  },
  {
   "cell_type": "code",
   "execution_count": 64,
   "id": "b22e8cc4",
   "metadata": {},
   "outputs": [
    {
     "name": "stdout",
     "output_type": "stream",
     "text": [
      "Data inserted successfully into the database.\n"
     ]
    }
   ],
   "source": [
    "# Insert data into the Supplier table\n",
    "try:\n",
    "    connection = mysql.connector.connect(\n",
    "        host= '34.170.97.145',\n",
    "        user= 'root',\n",
    "        password= 'password',\n",
    "        database= 'crazykitchen'\n",
    "    )\n",
    "    \n",
    "    if connection.is_connected():\n",
    "        cursor = connection.cursor()\n",
    "        \n",
    "        for i in range(1, 30):\n",
    "            supplier_id = i\n",
    "            name = fake.company()\n",
    "            phone = fake.phone_number()\n",
    "            cursor.execute(\n",
    "                \"\"\"INSERT INTO Supplier (SupplierID, Name, Phone)\n",
    "                   VALUES (%s, %s, %s)\"\"\",\n",
    "                (supplier_id, name, phone)\n",
    "            )\n",
    "            \n",
    "        connection.commit()\n",
    "        print(\"Data inserted successfully into the database.\")\n",
    "except mysql.connector.Error as e:\n",
    "    print(f\"Error: {e}\")\n",
    "connection.close()"
   ]
  },
  {
   "cell_type": "code",
   "execution_count": 77,
   "id": "b2c9e075",
   "metadata": {},
   "outputs": [
    {
     "name": "stdout",
     "output_type": "stream",
     "text": [
      "Data inserted successfully into the database.\n"
     ]
    }
   ],
   "source": [
    "# Insert data into IngredientsUsed table\n",
    "try:\n",
    "    connection = mysql.connector.connect(\n",
    "        host= '34.170.97.145',\n",
    "        user= 'root',\n",
    "        password= 'password',\n",
    "        database= 'crazykitchen'\n",
    "    )\n",
    "    \n",
    "    if connection.is_connected():\n",
    "        cursor = connection.cursor()\n",
    "        \n",
    "        for dish, ingredients in dishes_to_ingredients.items():\n",
    "            for ingredient in ingredients:\n",
    "                # Assuming IngredientID is auto-generated or known\n",
    "                cursor.execute(\n",
    "                    \"\"\"SELECT IngredientID FROM Ingredient WHERE IngredientName = %s\"\"\",\n",
    "                    (ingredient,)\n",
    "                )\n",
    "                ingredient_id = cursor.fetchone()[0]\n",
    "\n",
    "                # Insert into IngredientsUsed\n",
    "                cursor.execute(\n",
    "                    \"\"\"INSERT INTO IngredientsUsed (IngredientID, DishName, Quantity)\n",
    "                       VALUES (%s, %s, %s)\"\"\",\n",
    "                    (ingredient_id, dish, random.randint(1, 7))  # Quantity is randomized for demonstration\n",
    "                )\n",
    "            \n",
    "        connection.commit()\n",
    "        print(\"Data inserted successfully into the database.\")\n",
    "except mysql.connector.Error as e:\n",
    "    print(f\"Error: {e}\")\n",
    "connection.close()"
   ]
  },
  {
   "cell_type": "code",
   "execution_count": 80,
   "id": "71d12508",
   "metadata": {},
   "outputs": [
    {
     "name": "stdout",
     "output_type": "stream",
     "text": [
      "Data inserted successfully into the database.\n"
     ]
    }
   ],
   "source": [
    "# Insert data into IngredientsSupplied table\n",
    "try:\n",
    "    connection = mysql.connector.connect(\n",
    "        host= '34.170.97.145',\n",
    "        user= 'root',\n",
    "        password= 'password',\n",
    "        database= 'crazykitchen'\n",
    "    )\n",
    "    \n",
    "    if connection.is_connected():\n",
    "        cursor = connection.cursor()\n",
    "        \n",
    "        cursor.execute(\"SELECT IngredientID FROM Ingredient\")\n",
    "        ingredients = cursor.fetchall()\n",
    "        for ingredient_id_tuple in ingredients:\n",
    "            ingredient_id = ingredient_id_tuple[0]\n",
    "\n",
    "            # Randomly decide the number of suppliers for each ingredient\n",
    "            number_of_suppliers = random.randint(1, 5)  # Each ingredient can have 1 to 5 suppliers\n",
    "\n",
    "            for _ in range(number_of_suppliers):\n",
    "                # Assign a random SupplierID between 1 and 30\n",
    "                supplier_id = random.randint(1, 30)\n",
    "\n",
    "                # Insert into IngredientsSupplied table\n",
    "                cursor.execute(\n",
    "                    \"\"\"INSERT IGNORE INTO IngredientsSupplied (IngredientID, SupplierID, Quantity)\n",
    "                       VALUES (%s, %s, %s)\"\"\",\n",
    "                    (ingredient_id, supplier_id, random.randint(50, 1000))  # Quantity is randomized\n",
    "                )\n",
    "            \n",
    "        connection.commit()\n",
    "        print(\"Data inserted successfully into the database.\")\n",
    "except mysql.connector.Error as e:\n",
    "    print(f\"Error: {e}\")\n",
    "connection.close()"
   ]
  },
  {
   "cell_type": "code",
   "execution_count": 104,
   "id": "9b5d927c",
   "metadata": {},
   "outputs": [
    {
     "name": "stdout",
     "output_type": "stream",
     "text": [
      "Data inserted successfully into the database.\n"
     ]
    }
   ],
   "source": [
    "# Insert data into the OrderedDish table\n",
    "try:\n",
    "    connection = mysql.connector.connect(\n",
    "        host= '34.170.97.145',\n",
    "        user= 'root',\n",
    "        password= 'password',\n",
    "        database= 'crazykitchen'\n",
    "    )\n",
    "    \n",
    "    if connection.is_connected():\n",
    "        cursor = connection.cursor()\n",
    "        \n",
    "        cursor.execute(\"SELECT OrderID FROM RestaurantOrder\")\n",
    "        orders = cursor.fetchall()\n",
    "\n",
    "        cursor.execute(\"SELECT DishName FROM Dish\")\n",
    "        dishes = cursor.fetchall()\n",
    "\n",
    "        for order_id_tuple in orders:\n",
    "            order_id = order_id_tuple[0]\n",
    "\n",
    "            # Randomly decide how many dishes were ordered in this order\n",
    "            number_of_dishes = int(random.triangular(1, 7, 4))\n",
    "            \n",
    "            dish_names = random.sample(dishes, number_of_dishes)\n",
    "            for dish_name_iter in dish_names:\n",
    "                # Randomly select a dish\n",
    "                dish_name = dish_name_iter[0]\n",
    "\n",
    "                # Insert into OrderedDish table\n",
    "                cursor.execute(\n",
    "                    \"\"\"INSERT IGNORE INTO OrderedDish (OrderID, DishName, Quantity)\n",
    "                       VALUES (%s, %s, %s)\"\"\",\n",
    "                    (order_id, dish_name, random.randint(1, 3))  # Quantity is randomized between 1 and 3\n",
    "                )\n",
    "            \n",
    "        connection.commit()\n",
    "        print(\"Data inserted successfully into the database.\")\n",
    "except mysql.connector.Error as e:\n",
    "    print(f\"Error: {e}\")\n",
    "connection.close()"
   ]
  },
  {
   "cell_type": "code",
   "execution_count": 106,
   "id": "54261248",
   "metadata": {},
   "outputs": [
    {
     "name": "stdout",
     "output_type": "stream",
     "text": [
      "Data inserted successfully into the database.\n"
     ]
    }
   ],
   "source": [
    "# Insert data into the Receipt table\n",
    "try:\n",
    "    connection = mysql.connector.connect(\n",
    "        host= '34.170.97.145',\n",
    "        user= 'root',\n",
    "        password= 'password',\n",
    "        database= 'crazykitchen'\n",
    "    )\n",
    "    \n",
    "    if connection.is_connected():\n",
    "        cursor = connection.cursor()\n",
    "        \n",
    "        cursor.execute(\"\"\"SELECT OrderID, OrderDatetime FROM RestaurantOrder\"\"\")\n",
    "        orders = cursor.fetchall()\n",
    "        for order_id, order_date in orders:\n",
    "            # Calculate SaleDate by adding a random number of minutes (at least 40 minutes) to OrderDate\n",
    "            sale_date = order_date + timedelta(minutes=random.randint(20, 80))\n",
    "\n",
    "            # Randomly decide the amount and payment method\n",
    "            amount = random.uniform(10.0, 100.0)  # Amount between 10.0 and 100.0\n",
    "            payment_method = random.choice(['Cash', 'Credit Card', 'Debit Card', 'Mobile Payment'])\n",
    "            receipt_id = order_id\n",
    "            \n",
    "            # Insert into Receipt table\n",
    "            cursor.execute(\n",
    "                \"\"\"INSERT INTO Receipt (ReceiptID, Amount, SaleDateTime, PaymentMethod, OrderID)\n",
    "                   VALUES (%s, %s, %s, %s, %s)\"\"\",\n",
    "                (receipt_id, amount, sale_date, payment_method, order_id)\n",
    "            )\n",
    "            \n",
    "        connection.commit()\n",
    "        print(\"Data inserted successfully into the database.\")\n",
    "except mysql.connector.Error as e:\n",
    "    print(f\"Error: {e}\")\n",
    "connection.close()"
   ]
  },
  {
   "cell_type": "code",
   "execution_count": null,
   "id": "914a7564",
   "metadata": {},
   "outputs": [],
   "source": []
  }
 ],
 "metadata": {
  "kernelspec": {
   "display_name": "Python 3 (ipykernel)",
   "language": "python",
   "name": "python3"
  },
  "language_info": {
   "codemirror_mode": {
    "name": "ipython",
    "version": 3
   },
   "file_extension": ".py",
   "mimetype": "text/x-python",
   "name": "python",
   "nbconvert_exporter": "python",
   "pygments_lexer": "ipython3",
   "version": "3.11.5"
  }
 },
 "nbformat": 4,
 "nbformat_minor": 5
}
